{
  "cells": [
    {
      "cell_type": "markdown",
      "metadata": {
        "id": "HkjGeDcDWkDf"
      },
      "source": [
        "# Clone SICK_Summarization"
      ]
    },
    {
      "cell_type": "code",
      "execution_count": null,
      "metadata": {
        "id": "UXt8I-8ZV58W"
      },
      "outputs": [],
      "source": [
        "!git clone https://github.com/sergiuabed/SICK_Summarization.git\n",
        "%cd SICK_Summarization/extension_1"
      ]
    },
    {
      "cell_type": "code",
      "execution_count": null,
      "metadata": {
        "id": "LIX2iK_sXZe2"
      },
      "outputs": [],
      "source": [
        "!conda create -n sick python=3.8\n",
        "!conda activate sick\n",
        "!pip install torch==1.10.1+cu113 torchvision==0.11.2+cu113 torchaudio==0.10.1 -f https://download.pytorch.org/whl/cu113/torch_stable.html\n",
        "!pip install -r requirements.txt # for some reason, doesn't actually install the requirements. Run the next cell to install them\n",
        "!pip install -U spacy\n",
        "!pip install gdown\n",
        "!python -m spacy download en_core_web_sm"
      ]
    },
    {
      "cell_type": "code",
      "execution_count": null,
      "metadata": {
        "id": "PzxtMlOzjAhG"
      },
      "outputs": [],
      "source": [
        "!pip install datasets\n",
        "!pip install transformers==4.13.0\n",
        "!pip install nltk\n",
        "!pip install datasets\n",
        "!pip install wandb\n",
        "!pip install rouge_score\n",
        "!pip install bert_score\n",
        "!pip install py7zr\n",
        "!pip install metrics"
      ]
    },
    {
      "cell_type": "code",
      "execution_count": null,
      "metadata": {
        "id": "plczDHxsUQYU"
      },
      "outputs": [],
      "source": [
        "#!pip install accelerate -U\n",
        "!pip install transformers[torch]"
      ]
    },
    {
      "cell_type": "code",
      "execution_count": null,
      "metadata": {
        "id": "BC5GaDvFay2D"
      },
      "outputs": [],
      "source": [
        "import nltk\n",
        "nltk.download('punkt')"
      ]
    },
    {
      "cell_type": "markdown",
      "metadata": {
        "id": "Zphw5HpXbBEP"
      },
      "source": [
        "# Download preprocessed commonsense"
      ]
    },
    {
      "cell_type": "code",
      "execution_count": null,
      "metadata": {
        "id": "cT2uDLZtajHF"
      },
      "outputs": [],
      "source": [
        "# Download COMET data\n",
        "!gdown --folder https://drive.google.com/drive/folders/1z1MXBGJ3pt0lC5dneMfFrQgxXTD8Iqrr?usp=share_link -O ./data/COMET_data"
      ]
    },
    {
      "cell_type": "markdown",
      "metadata": {
        "id": "r3YXxm_bh6Ob"
      },
      "source": [
        "Skip this cell if not training on DialogSum"
      ]
    },
    {
      "cell_type": "code",
      "execution_count": null,
      "metadata": {
        "id": "PCx1xW5hh4pm"
      },
      "outputs": [],
      "source": [
        "# Download DialogSum dataset\n",
        "!gdown --folder https://drive.google.com/drive/folders/1CuZaU5Xw0AiIPaBTRrjToFkktS7_6KwG?usp=share_link -O ./data/DialogSum_Data"
      ]
    },
    {
      "cell_type": "markdown",
      "metadata": {
        "id": "HH88eRUZvpke"
      },
      "source": [
        "# WandB Login"
      ]
    },
    {
      "cell_type": "code",
      "execution_count": null,
      "metadata": {
        "id": "CV86G5_3nbvI"
      },
      "outputs": [],
      "source": [
        "import wandb\n",
        "API_KEY = \"baa0639c6c3d56fe36e2d599a59e0663d1a54363\"\n",
        "#wandb.login() #paste the following key: baa0639c6c3d56fe36e2d599a59e0663d1a54363\n",
        "!wandb login --relogin $API_KEY"
      ]
    },
    {
      "cell_type": "markdown",
      "metadata": {
        "id": "yTrwGv4bg_7R"
      },
      "source": [
        "# Train SICK"
      ]
    },
    {
      "cell_type": "markdown",
      "metadata": {
        "id": "6WAoCvl7UHPI"
      },
      "source": [
        "change cwd to src to run the script"
      ]
    },
    {
      "cell_type": "code",
      "execution_count": null,
      "metadata": {
        "id": "IQegWCMzjBEb"
      },
      "outputs": [],
      "source": [
        "%cd src/"
      ]
    },
    {
      "cell_type": "markdown",
      "metadata": {
        "id": "foaCt9Fx5aP_"
      },
      "source": [
        "Uncomment the line corresponding to the model configuration you want to run"
      ]
    },
    {
      "cell_type": "code",
      "execution_count": null,
      "metadata": {
        "id": "Assrp01YdVp9"
      },
      "outputs": [],
      "source": [
        "#------------------------------------------------ T5-small----------------------------------------------------------------------------\n",
        "\n",
        "#SAMSum\n",
        "#!CUDA_VISIBLE_DEVICES=\"0\" python3 train_summarization_base.py --val_batch_size=10 --train_batch_size=10 --init_lr=5.6e-05 --adam_eps=1e-8 --lr_scheduler_type=\"linear\" --finetune_weight_path=\"./new_weights_sick\" --best_finetune_weight_path=\"./new_weights_sick_best\" --dataset_name=\"samsum\" --use_paracomet=False --model_name=\"google-t5/t5-small\" --epoch=3\n",
        "!CUDA_VISIBLE_DEVICES=\"0\" python3 train_summarization_context.py --val_batch_size=10 --train_batch_size=10 --init_lr=5.6e-05 --adam_eps=1e-8 --lr_scheduler_type=\"linear\" --finetune_weight_path=\"./new_weights_sick\" --best_finetune_weight_path=\"./new_weights_sick_best\" --dataset_name=\"samsum\" --use_paracomet=False --model_name=\"google-t5/t5-small\" --epoch=3 --use_sentence_transformer=True\n",
        "#!CUDA_VISIBLE_DEVICES=\"0\" python3 train_summarization_context.py --val_batch_size=10 --train_batch_size=10 --init_lr=5.6e-05 --adam_eps=1e-8 --lr_scheduler_type=\"linear\" --finetune_weight_path=\"./new_weights_sick\" --best_finetune_weight_path=\"./new_weights_sick_best\" --dataset_name=\"samsum\" --use_paracomet=True --model_name=\"google-t5/t5-small\" --epoch=3 --use_sentence_transformer=True\n",
        "\n",
        "#DialogSum\n",
        "#!CUDA_VISIBLE_DEVICES=\"0\" python3 train_summarization_base.py --val_batch_size=3 --train_batch_size=3 --init_lr=2e-05 --adam_eps=1e-8 --lr_scheduler_type=\"linear\" --finetune_weight_path=\"./new_weights_sick\" --best_finetune_weight_path=\"./new_weights_sick_best\" --dataset_name=\"dialogsum\" --use_paracomet=False --model_name=\"google-t5/t5-small\" --epoch=3\n",
        "#!CUDA_VISIBLE_DEVICES=\"0\" python3 train_summarization_context.py --val_batch_size=3 --train_batch_size=3 --init_lr=2e-05 --adam_eps=1e-8 --lr_scheduler_type=\"linear\" --finetune_weight_path=\"./new_weights_sick\" --best_finetune_weight_path=\"./new_weights_sick_best\" --dataset_name=\"dialogsum\" --use_paracomet=False --model_name=\"google-t5/t5-small\" --epoch=3 --use_sentence_transformer=True\n",
        "#!CUDA_VISIBLE_DEVICES=\"0\" python3 train_summarization_context.py --val_batch_size=3 --train_batch_size=3 --init_lr=2e-05 --adam_eps=1e-8 --lr_scheduler_type=\"linear\" --finetune_weight_path=\"./new_weights_sick\" --best_finetune_weight_path=\"./new_weights_sick_best\" --dataset_name=\"dialogsum\" --use_paracomet=True --model_name=\"google-t5/t5-small\" --epoch=3 --use_sentence_transformer=True\n",
        "\n",
        "\n",
        "\n",
        "#------------------------------------------------ T5-base----------------------------------------------------------------------------\n",
        "#SAMsum\n",
        "#!CUDA_VISIBLE_DEVICES=\"0\" python3 train_summarization_base.py --val_batch_size=4 --train_batch_size=4 --init_lr=2e-05 --adam_eps=1e-8 --lr_scheduler_type=\"linear\" --finetune_weight_path=\"./new_weights_sick\" --best_finetune_weight_path=\"./new_weights_sick_best\" --dataset_name=\"samsum\" --use_paracomet=False --model_name=\"google-t5/t5-base\" --epoch=1\n",
        "#!CUDA_VISIBLE_DEVICES=\"0\" python3 train_summarization_context.py --val_batch_size=4 --train_batch_size=4 --init_lr=2e-05 --adam_eps=1e-8 --lr_scheduler_type=\"linear\" --finetune_weight_path=\"./new_weights_sick\" --best_finetune_weight_path=\"./new_weights_sick_best\" --dataset_name=\"samsum\" --use_paracomet=False --model_name=\"google-t5/t5-base\" --epoch=1 --use_sentence_transformer=True\n",
        "#!CUDA_VISIBLE_DEVICES=\"0\" python3 train_summarization_context.py --val_batch_size=4 --train_batch_size=4 --init_lr=2e-05 --adam_eps=1e-8 --lr_scheduler_type=\"linear\" --finetune_weight_path=\"./new_weights_sick\" --best_finetune_weight_path=\"./new_weights_sick_best\" --dataset_name=\"samsum\" --use_paracomet=True --model_name=\"google-t5/t5-base\" --epoch=1 --use_sentence_transformer=True\n",
        "\n",
        "#DialogSum\n",
        "#!CUDA_VISIBLE_DEVICES=\"0\" python3 train_summarization_base.py --val_batch_size=8 --train_batch_size=8 --init_lr=5e-05 --adam_eps=1e-8 --lr_scheduler_type=\"linear\" --finetune_weight_path=\"./new_weights_sick\" --best_finetune_weight_path=\"./new_weights_sick_best\" --dataset_name=\"dialogsum\" --use_paracomet=False --model_name=\"google-t5/t5-base\" --epoch=1\n",
        "#!CUDA_VISIBLE_DEVICES=\"0\" python3 train_summarization_context.py --val_batch_size=8 --train_batch_size=8 --init_lr=5e-05 --adam_eps=1e-8 --lr_scheduler_type=\"linear\" --finetune_weight_path=\"./new_weights_sick\" --best_finetune_weight_path=\"./new_weights_sick_best\" --dataset_name=\"dialogsum\" --use_paracomet=False --model_name=\"google-t5/t5-base\" --epoch=1 --use_sentence_transformer=True\n",
        "#!CUDA_VISIBLE_DEVICES=\"0\" python3 train_summarization_context.py --val_batch_size=8 --train_batch_size=8 --init_lr=5e-05 --adam_eps=1e-8 --lr_scheduler_type=\"linear\" --finetune_weight_path=\"./new_weights_sick\" --best_finetune_weight_path=\"./new_weights_sick_best\" --dataset_name=\"dialogsum\" --use_paracomet=True --model_name=\"google-t5/t5-base\" --epoch=1 --use_sentence_transformer=True\n",
        "\n",
        "\n",
        "\n",
        "#------------------------------------------------ BART-base ----------------------------------------------------------------------------\n",
        "#SAMSum\n",
        "#!CUDA_VISIBLE_DEVICES=\"0\" python3 train_summarization_base.py --val_batch_size=4 --train_batch_size=4 --warm_up=500 --init_lr=2e-05 --gradient_accumulation_steps=2 --adam_eps=1e-8 --lr_scheduler_type=\"linear\" --finetune_weight_path=\"./new_weights_sick\" --best_finetune_weight_path=\"./new_weights_sick_best\" --dataset_name=\"samsum\" --use_paracomet=False --model_name=\"facebook/bart-base\" --epoch=1\n",
        "#!CUDA_VISIBLE_DEVICES=\"0\" python3 train_summarization_context.py --val_batch_size=4 --train_batch_size=4 --warm_up=500 --init_lr=2e-05 --gradient_accumulation_steps=2 --adam_eps=1e-8 --lr_scheduler_type=\"linear\" --finetune_weight_path=\"./new_weights_sick\" --best_finetune_weight_path=\"./new_weights_sick_best\" --dataset_name=\"samsum\" --use_paracomet=False --model_name=\"facebook/bart-base\" --epoch=1\n",
        "#!CUDA_VISIBLE_DEVICES=\"0\" python3 train_summarization_context.py --val_batch_size=4 --train_batch_size=4 --warm_up=500 --init_lr=2e-05 --gradient_accumulation_steps=2 --adam_eps=1e-8 --lr_scheduler_type=\"linear\" --finetune_weight_path=\"./new_weights_sick\" --best_finetune_weight_path=\"./new_weights_sick_best\" --dataset_name=\"samsum\" --use_paracomet=True --model_name=\"facebook/bart-base\" --epoch=1\n",
        "\n",
        "#DialogSum\n",
        "#!CUDA_VISIBLE_DEVICES=\"0\" python3 train_summarization_context.py --val_batch_size=8 --train_batch_size=8 --warm_up=500 --init_lr=5e-05 --gradient_accumulation_steps=2 --adam_eps=1e-8 --lr_scheduler_type=\"linear\" --finetune_weight_path=\"./new_weights_sick\" --best_finetune_weight_path=\"./new_weights_sick_best\" --dataset_name=\"dialogsum\" --use_paracomet=False --use_roberta=True --model_name=\"facebook/bart-base\" --epoch=3\n",
        "#!CUDA_VISIBLE_DEVICES=\"0\" python3 train_summarization_context.py --val_batch_size=8 --train_batch_size=8 --warm_up=500 --init_lr=5e-05 --gradient_accumulation_steps=2 --adam_eps=1e-8 --lr_scheduler_type=\"linear\" --finetune_weight_path=\"./new_weights_sick\" --best_finetune_weight_path=\"./new_weights_sick_best\" --dataset_name=\"dialogsum\" --use_paracomet=False --use_sentence_transformer=True --model_name=\"facebook/bart-base\" --epoch=3\n",
        "#!CUDA_VISIBLE_DEVICES=\"0\" python3 train_summarization_context.py --val_batch_size=8 --train_batch_size=8 --warm_up=500 --init_lr=5e-05 --gradient_accumulation_steps=2 --adam_eps=1e-8 --lr_scheduler_type=\"linear\" --finetune_weight_path=\"./new_weights_sick\" --best_finetune_weight_path=\"./new_weights_sick_best\" --dataset_name=\"dialogsum\" --use_paracomet=True --use_sentence_transformer=True --model_name=\"facebook/bart-base\" --epoch=3\n",
        "\n",
        "\n",
        "\n",
        "#------------------------------------------------ PEGASUS ----------------------------------------------------------------------------\n",
        "#SAMSum\n",
        "#!CUDA_VISIBLE_DEVICES=\"0\" python3 train_summarization_base.py --val_batch_size=4 --train_batch_size=4 --init_lr=2e-05 --adam_eps=1e-8 --lr_scheduler_type=\"linear\" --gradient_accumulation_steps=2 --finetune_weight_path=\"./new_weights_sick\" --best_finetune_weight_path=\"./new_weights_sick_best\" --dataset_name=\"samsum\" --use_paracomet=False --model_name=\"google/pegasus-large\" --epoch=3 --fraction_of_data=0.15\n",
        "#!CUDA_VISIBLE_DEVICES=\"0\" python3 train_summarization_context.py --val_batch_size=4 --train_batch_size=4 --init_lr=2e-05 --adam_eps=1e-8 --lr_scheduler_type=\"linear\" --gradient_accumulation_steps=2 --finetune_weight_path=\"./new_weights_sick\" --best_finetune_weight_path=\"./new_weights_sick_best\" --dataset_name=\"samsum\" --use_paracomet=False --model_name=\"google/pegasus-large\" --use_sentence_transformer=True --epoch=3 --fraction_of_data=0.15\n",
        "#!CUDA_VISIBLE_DEVICES=\"0\" python3 train_summarization_context.py --val_batch_size=4 --train_batch_size=4 --init_lr=2e-05 --adam_eps=1e-8 --lr_scheduler_type=\"linear\" --gradient_accumulation_steps=2 --finetune_weight_path=\"./new_weights_sick\" --best_finetune_weight_path=\"./new_weights_sick_best\" --dataset_name=\"samsum\" --use_paracomet=True --model_name=\"google/pegasus-large\" --use_sentence_transformer=True --epoch=3 --fraction_of_data=0.15\n"
      ]
    }
  ],
  "metadata": {
    "accelerator": "GPU",
    "colab": {
      "gpuType": "T4",
      "provenance": []
    },
    "kernelspec": {
      "display_name": "Python 3",
      "name": "python3"
    },
    "language_info": {
      "name": "python"
    }
  },
  "nbformat": 4,
  "nbformat_minor": 0
}
