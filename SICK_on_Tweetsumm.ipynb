{
  "nbformat": 4,
  "nbformat_minor": 0,
  "metadata": {
    "colab": {
      "provenance": [],
      "gpuType": "V100",
      "machine_shape": "hm"
    },
    "kernelspec": {
      "name": "python3",
      "display_name": "Python 3"
    },
    "language_info": {
      "name": "python"
    },
    "accelerator": "GPU"
  },
  "cells": [
    {
      "cell_type": "markdown",
      "source": [
        "#Environment Setup"
      ],
      "metadata": {
        "id": "NKUYZGuUvGox"
      }
    },
    {
      "cell_type": "code",
      "source": [
        "!which python\n",
        "!python --version\n",
        "%env PYTHONPATH=\n",
        "!pip install virtualenv\n",
        "!virtualenv myenv\n",
        "!wget https://repo.anaconda.com/miniconda/Miniconda3-latest-Linux-x86_64.sh\n",
        "!chmod +x Miniconda3-latest-Linux-x86_64.sh\n",
        "!./Miniconda3-latest-Linux-x86_64.sh -b -f -p /usr/local\n",
        "!conda install -q -y --prefix /usr/local python=3.8 ujson\n",
        "import sys\n",
        "sys.path.append('/usr/local/lib/python3.8/site-packages/')\n",
        "import os\n",
        "os.environ['CONDA_PREFIX'] = '/usr/local/envs/myenv'\n",
        "!python --version\n"
      ],
      "metadata": {
        "id": "GWrdqG3Kmqjv"
      },
      "execution_count": null,
      "outputs": []
    },
    {
      "cell_type": "markdown",
      "source": [
        "#Clone repository"
      ],
      "metadata": {
        "id": "ZY0G_aGTu2TO"
      }
    },
    {
      "cell_type": "code",
      "execution_count": null,
      "metadata": {
        "id": "pzNhfmsOf3a-"
      },
      "outputs": [],
      "source": [
        "!git clone https://github.com/sergiuabed/SICK_Summarization.git\n",
        "ROOT = \"/content/SICK_Summarization/extension_2\"\n",
        "%cd $ROOT"
      ]
    },
    {
      "cell_type": "markdown",
      "source": [
        "#Install requirements"
      ],
      "metadata": {
        "id": "hWUthc5ix4Mo"
      }
    },
    {
      "cell_type": "code",
      "source": [
        "!conda create -n sick python=3.8 -y\n",
        "!conda activate sick\n",
        "!pip install torch==1.10.1+cu113 torchvision==0.11.2+cu113 torchaudio==0.10.1 -f https://download.pytorch.org/whl/cu113/torch_stable.html\n",
        "!pip install -r SICK_on_tweetsumm/requirements.txt\n",
        "!pip install -U spacy\n",
        "!python -m spacy download en_core_web_sm\n"
      ],
      "metadata": {
        "id": "LpCKhJH0gRyC"
      },
      "execution_count": null,
      "outputs": []
    },
    {
      "cell_type": "markdown",
      "source": [
        "#Test SICK on Tweetsumm"
      ],
      "metadata": {
        "id": "gcazFAOPou6T"
      }
    },
    {
      "cell_type": "markdown",
      "source": [
        "##Get data and commonsense"
      ],
      "metadata": {
        "id": "DF9S1tMpq75e"
      }
    },
    {
      "cell_type": "code",
      "source": [
        "\n",
        "!unzip -o Tweetsumm/tweetsumm_comet.zip -d SICK_on_tweetsumm/data\n",
        "!unzip -o Tweetsumm/tweetsumm_clean.zip -d SICK_on_tweetsumm/data\n",
        "!mv SICK_on_tweetsumm/data/dialogue_data/ SICK_on_tweetsumm/data/tweetsumm_data/"
      ],
      "metadata": {
        "id": "NyNoUQFwpZaC"
      },
      "execution_count": null,
      "outputs": []
    },
    {
      "cell_type": "markdown",
      "source": [
        "##Login on W&B"
      ],
      "metadata": {
        "id": "iqQIj_euKNh1"
      }
    },
    {
      "cell_type": "code",
      "source": [
        "from google.colab import files\n",
        "API_KEY = \"9558532ae8e293df0f5981ae03aedf7d5ba0505a\"\n",
        "!wandb login --relogin $API_KEY"
      ],
      "metadata": {
        "id": "ExJtFqBh0SXT"
      },
      "execution_count": null,
      "outputs": []
    },
    {
      "cell_type": "markdown",
      "source": [
        "##Baseline"
      ],
      "metadata": {
        "id": "SnYZh7BrK-Cq"
      }
    },
    {
      "cell_type": "code",
      "source": [
        "%cd SICK_on_tweetsumm/src\n",
        "!CUDA_VISIBLE_DEVICES=\"0\" python3 train_summarization_base.py --finetune_weight_path=\"./new_weights_base\" --best_finetune_weight_path=\"./new_weights_base_best\" --dataset_name=\"tweetsumm\" --model_name=\"facebook/bart-large\"  --epoch=25 --train_batch_size=10"
      ],
      "metadata": {
        "id": "aL2junflCym0"
      },
      "execution_count": null,
      "outputs": []
    },
    {
      "cell_type": "code",
      "source": [
        "!zip tweetsumm_base_weights.zip new_weights_base new_weights_base_best\n",
        "files.download(\"tweetsumm_base_weights.zip\")"
      ],
      "metadata": {
        "id": "yJSHq511LL3C"
      },
      "execution_count": null,
      "outputs": []
    },
    {
      "cell_type": "markdown",
      "source": [
        "###Inference"
      ],
      "metadata": {
        "id": "LWVFi4weLL3D"
      }
    },
    {
      "cell_type": "code",
      "source": [
        "!CUDA_VISIBLE_DEVICES=\"0\" python3 inference.py --dataset_name \"tweetsumm\" --model_checkpoint=\"./new_weights_base_best\" --test_output_file_name=\"./base_tmp_result.txt\" --num_beams 20 --train_configuration=\"base\"\n",
        "files.download(\"base_tmp_result.txt\")\n",
        "%cd ../.."
      ],
      "metadata": {
        "id": "z9znPZ_TLL3D"
      },
      "execution_count": null,
      "outputs": []
    },
    {
      "cell_type": "markdown",
      "source": [
        "##Finetuning SICK"
      ],
      "metadata": {
        "id": "y-GnolKPrRBg"
      }
    },
    {
      "cell_type": "code",
      "source": [
        "%cd SICK_on_tweetsumm/src\n",
        "!CUDA_VISIBLE_DEVICES=\"0\" python3 train_summarization_context.py --finetune_weight_path=\"./new_weights_sick\" --best_finetune_weight_path=\"./new_weights_sick_best\" --dataset_name=\"tweetsumm\" --model_name=\"facebook/bart-large\" --epoch=25 --use_sentence_transformer True --train_batch_size=10"
      ],
      "metadata": {
        "id": "HofYBnnvrZ-p"
      },
      "execution_count": null,
      "outputs": []
    },
    {
      "cell_type": "code",
      "source": [
        "!zip tweetsumm_sick_weights.zip new_weights_sick new_weights_sick_best\n",
        "files.download(\"tweetsumm_sick_weights.zip\")"
      ],
      "metadata": {
        "id": "keTnDL8hZy93"
      },
      "execution_count": null,
      "outputs": []
    },
    {
      "cell_type": "markdown",
      "source": [
        "###Inference"
      ],
      "metadata": {
        "id": "sF32Y3-KJo1d"
      }
    },
    {
      "cell_type": "code",
      "source": [
        "!CUDA_VISIBLE_DEVICES=\"0\" python3 inference.py --dataset_name \"tweetsumm\" --model_checkpoint=\"./new_weights_sick_best\" --test_output_file_name=\"./sick_tmp_result.txt\" --num_beams 20 --train_configuration=\"context\" --use_sentence_transformer True\n",
        "files.download(\"sick_tmp_result.txt\")\n",
        "%cd ../.."
      ],
      "metadata": {
        "id": "vM0RaINRJo1z"
      },
      "execution_count": null,
      "outputs": []
    },
    {
      "cell_type": "markdown",
      "source": [
        "##Finetuning SICK++"
      ],
      "metadata": {
        "id": "JV1oKumkKgUW"
      }
    },
    {
      "cell_type": "code",
      "source": [
        "%cd SICK_on_tweetsumm/src\n",
        "!CUDA_VISIBLE_DEVICES=\"0\" python3 train_summarization_full.py --finetune_weight_path=\"./new_weights_sickplus\" --best_finetune_weight_path=\"./new_weights_sickplus_best\" --dataset_name=\"tweetsumm\" --model_name=\"facebook/bart-large\" --epoch=25 --use_sentence_transformer True --train_batch_size=5"
      ],
      "metadata": {
        "id": "MKB-vbZRrniu",
        "colab": {
          "base_uri": "https://localhost:8080/"
        },
        "outputId": "09a73cf1-5bc8-4b8d-f204-c6fcd6914036"
      },
      "execution_count": null,
      "outputs": [
        {
          "output_type": "stream",
          "name": "stdout",
          "text": [
            " 56% 1231/2200 [38:00<26:00,  1.61s/it]"
          ]
        }
      ]
    },
    {
      "cell_type": "code",
      "source": [
        "!zip tweetsumm_sickplus_weights.zip new_weights_sickplus new_weights_sickplus_best\n",
        "files.download(\"tweetsumm_sickplus_weights.zip\")"
      ],
      "metadata": {
        "id": "EVUCGt5jA8Lf"
      },
      "execution_count": null,
      "outputs": []
    },
    {
      "cell_type": "markdown",
      "source": [
        "###Inference"
      ],
      "metadata": {
        "id": "-s9Z7E70sVaf"
      }
    },
    {
      "cell_type": "code",
      "source": [
        "!CUDA_VISIBLE_DEVICES=\"0\" python3 inference.py --dataset_name \"tweetsumm\" --model_checkpoint=\"./new_weights_sickplus_best\" --test_output_file_name=\"./sickplus_tmp_result.txt\" --num_beams 20 --train_configuration=\"full\" --use_sentence_transformer True\n",
        "files.download(\"sickplus_tmp_result.txt\")\n",
        "%cd ../.."
      ],
      "metadata": {
        "id": "RkyUBicnsXWN"
      },
      "execution_count": null,
      "outputs": []
    }
  ]
}